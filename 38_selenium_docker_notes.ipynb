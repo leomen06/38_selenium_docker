{
 "cells": [
  {
   "cell_type": "markdown",
   "id": "b85c918e",
   "metadata": {},
   "source": [
    "### <a name=\"index\"></a>Index\n",
    "\n",
    "[Iniciando](#mark_01)\n",
    "\n",
    "[](#mark_)\n",
    "\n",
    "[](#mark_)\n",
    "\n",
    "[](#mark_)\n",
    "\n",
    "[](#mark_)\n",
    "\n",
    "[](#mark_)\n",
    "\n",
    "[](#mark_)\n",
    "\n",
    "[](#mark_)\n",
    "\n",
    "[](#mark_)\n",
    "\n",
    "[](#mark_)\n",
    "\n",
    "[](#mark_)\n",
    "\n",
    "[](#mark_)\n",
    "\n",
    "[](#mark_)\n",
    "\n",
    "[](#mark_)\n",
    "\n",
    "[](#mark_)\n",
    "\n",
    "[](#mark_)\n",
    "\n",
    "[](#mark_)\n",
    "\n",
    "[](#mark_)\n",
    "\n",
    "[](#mark_)\n",
    "\n",
    "[](#mark_)\n",
    "\n",
    "[](#mark_)\n",
    "\n",
    "[](#mark_)\n",
    "\n",
    "[](#mark_)\n",
    "\n",
    "[](#mark_)\n",
    "\n",
    "[](#mark_)\n",
    "\n",
    "[](#mark_)\n",
    "\n",
    "[](#mark_)\n",
    "\n",
    "[](#mark_)\n",
    "\n",
    "[](#mark_)\n",
    "\n",
    "[](#mark_)"
   ]
  },
  {
   "cell_type": "markdown",
   "id": "e3f0db54",
   "metadata": {},
   "source": [
    "### <a name='mark_01'></a> Iniciando.\n",
    "\n",
    "### [Indice](#index)\n",
    "\n",
    "_ La versión de Selenium para corren en docker se llama selenium standalone.\n",
    "\n",
    "![](img_01.png)\n",
    "\n",
    "_ creamos la imagen con `docker pull selenium/standalone-chrome:latest`\n",
    "\n",
    "![](img_02.png)\n",
    "\n",
    "_ corremos el contenedor `docker run -d -p 4444:4444 -p 7900:7900 --shm-size=\"2g\" selenium/standalone-chrome:latest`\n",
    "\n",
    "![](img_03.png)\n",
    "\n",
    "_ Scrip a correr:\n",
    "\n",
    "```python\n",
    "from selenium import webdriver\n",
    "from selenium.webdriver.common.keys import Keys\n",
    "#Importante para correr python en el contenedor.\n",
    "from selenium.webdriver.common.desired_capabilities import DesiredCapabilities\n",
    "import time\n",
    "\n",
    "driver = webdriver.Remote(\n",
    "    'http://localhost:4444/wd/hub',\n",
    "    #queremos acceder al drive de crhome para seterarla en la siguiente variable.\n",
    "    desired_capabilities=webdriver.DesiredCapabilities.CHROME\n",
    ")\n",
    "driver.get(\"https://www.w3schools.com/html/default.asp\")\n",
    "time.sleep(3)\n",
    "all_cookies=driver.get_cookies()\n",
    "print(all_cookies)\n",
    "```\n",
    "![](img_04.png)"
   ]
  },
  {
   "cell_type": "code",
   "execution_count": 10,
   "id": "08344f58",
   "metadata": {},
   "outputs": [
    {
     "name": "stdout",
     "output_type": "stream",
     "text": [
      "[{'domain': '.w3schools.com', 'expiry': 1735478945, 'httpOnly': False, 'name': 'cto_bundle', 'path': '/', 'sameSite': 'Lax', 'secure': False, 'value': 'TgIUFl8zdkViRmh0QlZNOFlVU0lMYldwNWpGNU95ZjlEOEtnRkdCdEFwU0N0M2dmM0JxN0dWSGVYSnJoajNwSU1leFU0NFM5NkQ0MzZ1Q0tiSUNkdDVYRVRlbkxmMXdkUXJvT0txdks1MkRjOVV4bDNnMkViWEhaWHVWU2pnUGN5dTQ2MHVUbzE1c0V0Z3pZV3JqOGp4NlQ5MEElM0QlM0Q'}, {'domain': '.w3schools.com', 'expiry': 1701869340, 'httpOnly': False, 'name': 'panoramaId_expiry', 'path': '/', 'sameSite': 'Lax', 'secure': False, 'value': '1701869340708'}, {'domain': 'www.w3schools.com', 'expiry': 1701786538, 'httpOnly': False, 'name': '_lr_retry_request', 'path': '/', 'sameSite': 'Lax', 'secure': False, 'value': 'true'}, {'domain': '.w3schools.com', 'expiry': 1701782951, 'httpOnly': False, 'name': 'lotame_domain_check', 'path': '/', 'sameSite': 'Lax', 'secure': False, 'value': 'w3schools.com'}, {'domain': '.w3schools.com', 'expiry': 1736342943, 'httpOnly': False, 'name': '_ga_9YNMTB56NB', 'path': '/', 'sameSite': 'Lax', 'secure': False, 'value': 'GS1.1.1701782938.1.0.1701782943.55.0.0'}, {'domain': '.w3schools.com', 'expiry': 1735478939, 'httpOnly': False, 'name': '__gpi', 'path': '/', 'sameSite': 'Lax', 'secure': False, 'value': 'UID=00000a02c251b45b:T=1701782939:RT=1701782939:S=ALNI_MadCXkibbbku0BcEwp6-RO1x1wQtA'}, {'domain': '.w3schools.com', 'expiry': 1735478938, 'httpOnly': False, 'name': 'cto_bidid', 'path': '/', 'sameSite': 'Lax', 'secure': False, 'value': 'beUjHl9yRzRiOVF4U2kwMmpHJTJGdkNaVWx5UUlOZGNlcEx1R0V5Y3V5YVJteTZVVFM4a2xDTUJNWUlqdHUyMTJvMVoyWUZMJTJGd05WcW16WCUyRjRkJTJCSWdab1g0U1VnJTNEJTNE'}, {'domain': '.w3schools.com', 'expiry': 1735478939, 'httpOnly': False, 'name': '__gads', 'path': '/', 'sameSite': 'Lax', 'secure': False, 'value': 'ID=1036ef3fed47bb9b:T=1701782939:RT=1701782939:S=ALNI_Ma-drM960fwYolu2VaGGkIzAMHKnw'}, {'domain': '.w3schools.com', 'expiry': 1736342939, 'httpOnly': False, 'name': '_ga', 'path': '/', 'sameSite': 'Lax', 'secure': False, 'value': 'GA1.1.863996752.1701782939'}, {'domain': 'www.w3schools.com', 'expiry': 1704374938, 'httpOnly': False, 'name': '_lr_env_src_ats', 'path': '/', 'sameSite': 'Lax', 'secure': False, 'value': 'false'}, {'domain': 'www.w3schools.com', 'expiry': 1704374938, 'httpOnly': False, 'name': '_pbjs_userid_consent_data', 'path': '/', 'sameSite': 'Lax', 'secure': False, 'value': '6683316680106290'}, {'domain': '.w3schools.com', 'expiry': 1733318938, 'httpOnly': False, 'name': '_sharedID_last', 'path': '/', 'sameSite': 'Lax', 'secure': False, 'value': 'Tue%2C%2005%20Dec%202023%2013%3A28%3A58%20GMT'}, {'domain': '.w3schools.com', 'expiry': 1725110943, 'httpOnly': False, 'name': '_cc_id', 'path': '/', 'sameSite': 'Lax', 'secure': False, 'value': '54f0d4d309da67f138bf7ce9aafe51b8'}, {'domain': '.w3schools.com', 'expiry': 1733318938, 'httpOnly': False, 'name': '_sharedID', 'path': '/', 'sameSite': 'Lax', 'secure': False, 'value': 'f4844d6b-26eb-4a44-a6a8-a18e9197db88'}]\n"
     ]
    }
   ],
   "source": [
    "from selenium import webdriver\n",
    "from selenium.webdriver.common.keys import Keys\n",
    "#Importante para correr python en el contenedor.\n",
    "from selenium.webdriver.common.desired_capabilities import DesiredCapabilities\n",
    "import time\n",
    "\n",
    "driver = webdriver.Remote(\n",
    "    'http://localhost:4444/wd/hub',\n",
    "    #queremos acceder al drive de crhome para seterarla en la siguiente variable.\n",
    "    desired_capabilities=webdriver.DesiredCapabilities.CHROME\n",
    ")\n",
    "driver.get(\"https://www.w3schools.com/html/default.asp\")\n",
    "time.sleep(3)\n",
    "all_cookies=driver.get_cookies()\n",
    "print(all_cookies)"
   ]
  },
  {
   "cell_type": "code",
   "execution_count": 12,
   "id": "d3c87641",
   "metadata": {},
   "outputs": [
    {
     "ename": "InvalidSessionIdException",
     "evalue": "Message: Unable to find session with ID: af571c05c8d865c9cd720c0415d8e89a\nBuild info: version: '4.15.0', revision: '1d14b5521b'\nSystem info: os.name: 'Linux', os.arch: 'amd64', os.version: '5.15.133.1-microsoft-standard-WSL2', java.version: '11.0.21'\nDriver info: driver.version: unknown\n",
     "output_type": "error",
     "traceback": [
      "\u001b[0;31m---------------------------------------------------------------------------\u001b[0m",
      "\u001b[0;31mInvalidSessionIdException\u001b[0m                 Traceback (most recent call last)",
      "Cell \u001b[0;32mIn[12], line 1\u001b[0m\n\u001b[0;32m----> 1\u001b[0m driver\u001b[38;5;241m.\u001b[39mmaximize_window()\n\u001b[1;32m      3\u001b[0m driver\u001b[38;5;241m.\u001b[39mget(\u001b[38;5;124m'\u001b[39m\u001b[38;5;124mhttps://rahulshettyacademy.com/\u001b[39m\u001b[38;5;124m'\u001b[39m)\n\u001b[1;32m      5\u001b[0m \u001b[38;5;28mprint\u001b[39m(driver\u001b[38;5;241m.\u001b[39mtitle)\n",
      "File \u001b[0;32m~/anaconda3/envs/data_trans_env/lib/python3.11/site-packages/selenium/webdriver/remote/webdriver.py:737\u001b[0m, in \u001b[0;36mWebDriver.maximize_window\u001b[0;34m(self)\u001b[0m\n\u001b[1;32m    735\u001b[0m     command \u001b[38;5;241m=\u001b[39m Command\u001b[38;5;241m.\u001b[39mMAXIMIZE_WINDOW\n\u001b[1;32m    736\u001b[0m     params \u001b[38;5;241m=\u001b[39m {\u001b[38;5;124m'\u001b[39m\u001b[38;5;124mwindowHandle\u001b[39m\u001b[38;5;124m'\u001b[39m: \u001b[38;5;124m'\u001b[39m\u001b[38;5;124mcurrent\u001b[39m\u001b[38;5;124m'\u001b[39m}\n\u001b[0;32m--> 737\u001b[0m \u001b[38;5;28mself\u001b[39m\u001b[38;5;241m.\u001b[39mexecute(command, params)\n",
      "File \u001b[0;32m~/anaconda3/envs/data_trans_env/lib/python3.11/site-packages/selenium/webdriver/remote/webdriver.py:321\u001b[0m, in \u001b[0;36mWebDriver.execute\u001b[0;34m(self, driver_command, params)\u001b[0m\n\u001b[1;32m    319\u001b[0m response \u001b[38;5;241m=\u001b[39m \u001b[38;5;28mself\u001b[39m\u001b[38;5;241m.\u001b[39mcommand_executor\u001b[38;5;241m.\u001b[39mexecute(driver_command, params)\n\u001b[1;32m    320\u001b[0m \u001b[38;5;28;01mif\u001b[39;00m response:\n\u001b[0;32m--> 321\u001b[0m     \u001b[38;5;28mself\u001b[39m\u001b[38;5;241m.\u001b[39merror_handler\u001b[38;5;241m.\u001b[39mcheck_response(response)\n\u001b[1;32m    322\u001b[0m     response[\u001b[38;5;124m'\u001b[39m\u001b[38;5;124mvalue\u001b[39m\u001b[38;5;124m'\u001b[39m] \u001b[38;5;241m=\u001b[39m \u001b[38;5;28mself\u001b[39m\u001b[38;5;241m.\u001b[39m_unwrap_value(\n\u001b[1;32m    323\u001b[0m         response\u001b[38;5;241m.\u001b[39mget(\u001b[38;5;124m'\u001b[39m\u001b[38;5;124mvalue\u001b[39m\u001b[38;5;124m'\u001b[39m, \u001b[38;5;28;01mNone\u001b[39;00m))\n\u001b[1;32m    324\u001b[0m     \u001b[38;5;28;01mreturn\u001b[39;00m response\n",
      "File \u001b[0;32m~/anaconda3/envs/data_trans_env/lib/python3.11/site-packages/selenium/webdriver/remote/errorhandler.py:242\u001b[0m, in \u001b[0;36mErrorHandler.check_response\u001b[0;34m(self, response)\u001b[0m\n\u001b[1;32m    240\u001b[0m         alert_text \u001b[38;5;241m=\u001b[39m value[\u001b[38;5;124m'\u001b[39m\u001b[38;5;124malert\u001b[39m\u001b[38;5;124m'\u001b[39m]\u001b[38;5;241m.\u001b[39mget(\u001b[38;5;124m'\u001b[39m\u001b[38;5;124mtext\u001b[39m\u001b[38;5;124m'\u001b[39m)\n\u001b[1;32m    241\u001b[0m     \u001b[38;5;28;01mraise\u001b[39;00m exception_class(message, screen, stacktrace, alert_text)\n\u001b[0;32m--> 242\u001b[0m \u001b[38;5;28;01mraise\u001b[39;00m exception_class(message, screen, stacktrace)\n",
      "\u001b[0;31mInvalidSessionIdException\u001b[0m: Message: Unable to find session with ID: af571c05c8d865c9cd720c0415d8e89a\nBuild info: version: '4.15.0', revision: '1d14b5521b'\nSystem info: os.name: 'Linux', os.arch: 'amd64', os.version: '5.15.133.1-microsoft-standard-WSL2', java.version: '11.0.21'\nDriver info: driver.version: unknown\n"
     ]
    }
   ],
   "source": [
    "driver.maximize_window()\n",
    "\n",
    "driver.get('https://rahulshettyacademy.com/')\n",
    "\n",
    "print(driver.title)\n",
    "print(driver.current_url)\n",
    "\n"
   ]
  },
  {
   "cell_type": "code",
   "execution_count": 7,
   "id": "2eaaba0f",
   "metadata": {},
   "outputs": [
    {
     "ename": "SessionNotCreatedException",
     "evalue": "Message: Could not start a new session. New session request timed out \nHost info: host: '25eb96f558f9', ip: '172.17.0.2'\nBuild info: version: '4.15.0', revision: '1d14b5521b'\nSystem info: os.name: 'Linux', os.arch: 'amd64', os.version: '5.15.133.1-microsoft-standard-WSL2', java.version: '11.0.21'\nDriver info: driver.version: unknown\n",
     "output_type": "error",
     "traceback": [
      "\u001b[0;31m---------------------------------------------------------------------------\u001b[0m",
      "\u001b[0;31mSessionNotCreatedException\u001b[0m                Traceback (most recent call last)",
      "Cell \u001b[0;32mIn[7], line 6\u001b[0m\n\u001b[1;32m      2\u001b[0m \u001b[38;5;28;01mfrom\u001b[39;00m \u001b[38;5;21;01mselenium\u001b[39;00m\u001b[38;5;21;01m.\u001b[39;00m\u001b[38;5;21;01mwebdriver\u001b[39;00m\u001b[38;5;21;01m.\u001b[39;00m\u001b[38;5;21;01mcommon\u001b[39;00m\u001b[38;5;21;01m.\u001b[39;00m\u001b[38;5;21;01mkeys\u001b[39;00m \u001b[38;5;28;01mimport\u001b[39;00m Keys\n\u001b[1;32m      5\u001b[0m options \u001b[38;5;241m=\u001b[39m webdriver\u001b[38;5;241m.\u001b[39mChromeOptions()\n\u001b[0;32m----> 6\u001b[0m driver \u001b[38;5;241m=\u001b[39m webdriver\u001b[38;5;241m.\u001b[39mRemote(command_executor\u001b[38;5;241m=\u001b[39m\u001b[38;5;124m\"\u001b[39m\u001b[38;5;124mhttp://localhost:4444\u001b[39m\u001b[38;5;124m\"\u001b[39m, options\u001b[38;5;241m=\u001b[39moptions)\n\u001b[1;32m      8\u001b[0m driver\u001b[38;5;241m.\u001b[39mget(\u001b[38;5;124m\"\u001b[39m\u001b[38;5;124mhttps://www.w3schools.com/html/default.asp\u001b[39m\u001b[38;5;124m\"\u001b[39m)\n\u001b[1;32m      9\u001b[0m time\u001b[38;5;241m.\u001b[39msleep(\u001b[38;5;241m3\u001b[39m)\n",
      "File \u001b[0;32m~/anaconda3/envs/data_trans_env/lib/python3.11/site-packages/selenium/webdriver/remote/webdriver.py:157\u001b[0m, in \u001b[0;36mWebDriver.__init__\u001b[0;34m(self, command_executor, desired_capabilities, browser_profile, proxy, keep_alive, file_detector, options)\u001b[0m\n\u001b[1;32m    154\u001b[0m \u001b[38;5;28;01mif\u001b[39;00m browser_profile \u001b[38;5;129;01mis\u001b[39;00m \u001b[38;5;129;01mnot\u001b[39;00m \u001b[38;5;28;01mNone\u001b[39;00m:\n\u001b[1;32m    155\u001b[0m     warnings\u001b[38;5;241m.\u001b[39mwarn(\u001b[38;5;124m\"\u001b[39m\u001b[38;5;124mPlease use FirefoxOptions to set browser profile\u001b[39m\u001b[38;5;124m\"\u001b[39m,\n\u001b[1;32m    156\u001b[0m                   \u001b[38;5;167;01mDeprecationWarning\u001b[39;00m, stacklevel\u001b[38;5;241m=\u001b[39m\u001b[38;5;241m2\u001b[39m)\n\u001b[0;32m--> 157\u001b[0m \u001b[38;5;28mself\u001b[39m\u001b[38;5;241m.\u001b[39mstart_session(capabilities, browser_profile)\n\u001b[1;32m    158\u001b[0m \u001b[38;5;28mself\u001b[39m\u001b[38;5;241m.\u001b[39m_switch_to \u001b[38;5;241m=\u001b[39m SwitchTo(\u001b[38;5;28mself\u001b[39m)\n\u001b[1;32m    159\u001b[0m \u001b[38;5;28mself\u001b[39m\u001b[38;5;241m.\u001b[39m_mobile \u001b[38;5;241m=\u001b[39m Mobile(\u001b[38;5;28mself\u001b[39m)\n",
      "File \u001b[0;32m~/anaconda3/envs/data_trans_env/lib/python3.11/site-packages/selenium/webdriver/remote/webdriver.py:252\u001b[0m, in \u001b[0;36mWebDriver.start_session\u001b[0;34m(self, capabilities, browser_profile)\u001b[0m\n\u001b[1;32m    249\u001b[0m w3c_caps \u001b[38;5;241m=\u001b[39m _make_w3c_caps(capabilities)\n\u001b[1;32m    250\u001b[0m parameters \u001b[38;5;241m=\u001b[39m {\u001b[38;5;124m\"\u001b[39m\u001b[38;5;124mcapabilities\u001b[39m\u001b[38;5;124m\"\u001b[39m: w3c_caps,\n\u001b[1;32m    251\u001b[0m               \u001b[38;5;124m\"\u001b[39m\u001b[38;5;124mdesiredCapabilities\u001b[39m\u001b[38;5;124m\"\u001b[39m: capabilities}\n\u001b[0;32m--> 252\u001b[0m response \u001b[38;5;241m=\u001b[39m \u001b[38;5;28mself\u001b[39m\u001b[38;5;241m.\u001b[39mexecute(Command\u001b[38;5;241m.\u001b[39mNEW_SESSION, parameters)\n\u001b[1;32m    253\u001b[0m \u001b[38;5;28;01mif\u001b[39;00m \u001b[38;5;124m'\u001b[39m\u001b[38;5;124msessionId\u001b[39m\u001b[38;5;124m'\u001b[39m \u001b[38;5;129;01mnot\u001b[39;00m \u001b[38;5;129;01min\u001b[39;00m response:\n\u001b[1;32m    254\u001b[0m     response \u001b[38;5;241m=\u001b[39m response[\u001b[38;5;124m'\u001b[39m\u001b[38;5;124mvalue\u001b[39m\u001b[38;5;124m'\u001b[39m]\n",
      "File \u001b[0;32m~/anaconda3/envs/data_trans_env/lib/python3.11/site-packages/selenium/webdriver/remote/webdriver.py:321\u001b[0m, in \u001b[0;36mWebDriver.execute\u001b[0;34m(self, driver_command, params)\u001b[0m\n\u001b[1;32m    319\u001b[0m response \u001b[38;5;241m=\u001b[39m \u001b[38;5;28mself\u001b[39m\u001b[38;5;241m.\u001b[39mcommand_executor\u001b[38;5;241m.\u001b[39mexecute(driver_command, params)\n\u001b[1;32m    320\u001b[0m \u001b[38;5;28;01mif\u001b[39;00m response:\n\u001b[0;32m--> 321\u001b[0m     \u001b[38;5;28mself\u001b[39m\u001b[38;5;241m.\u001b[39merror_handler\u001b[38;5;241m.\u001b[39mcheck_response(response)\n\u001b[1;32m    322\u001b[0m     response[\u001b[38;5;124m'\u001b[39m\u001b[38;5;124mvalue\u001b[39m\u001b[38;5;124m'\u001b[39m] \u001b[38;5;241m=\u001b[39m \u001b[38;5;28mself\u001b[39m\u001b[38;5;241m.\u001b[39m_unwrap_value(\n\u001b[1;32m    323\u001b[0m         response\u001b[38;5;241m.\u001b[39mget(\u001b[38;5;124m'\u001b[39m\u001b[38;5;124mvalue\u001b[39m\u001b[38;5;124m'\u001b[39m, \u001b[38;5;28;01mNone\u001b[39;00m))\n\u001b[1;32m    324\u001b[0m     \u001b[38;5;28;01mreturn\u001b[39;00m response\n",
      "File \u001b[0;32m~/anaconda3/envs/data_trans_env/lib/python3.11/site-packages/selenium/webdriver/remote/errorhandler.py:242\u001b[0m, in \u001b[0;36mErrorHandler.check_response\u001b[0;34m(self, response)\u001b[0m\n\u001b[1;32m    240\u001b[0m         alert_text \u001b[38;5;241m=\u001b[39m value[\u001b[38;5;124m'\u001b[39m\u001b[38;5;124malert\u001b[39m\u001b[38;5;124m'\u001b[39m]\u001b[38;5;241m.\u001b[39mget(\u001b[38;5;124m'\u001b[39m\u001b[38;5;124mtext\u001b[39m\u001b[38;5;124m'\u001b[39m)\n\u001b[1;32m    241\u001b[0m     \u001b[38;5;28;01mraise\u001b[39;00m exception_class(message, screen, stacktrace, alert_text)\n\u001b[0;32m--> 242\u001b[0m \u001b[38;5;28;01mraise\u001b[39;00m exception_class(message, screen, stacktrace)\n",
      "\u001b[0;31mSessionNotCreatedException\u001b[0m: Message: Could not start a new session. New session request timed out \nHost info: host: '25eb96f558f9', ip: '172.17.0.2'\nBuild info: version: '4.15.0', revision: '1d14b5521b'\nSystem info: os.name: 'Linux', os.arch: 'amd64', os.version: '5.15.133.1-microsoft-standard-WSL2', java.version: '11.0.21'\nDriver info: driver.version: unknown\n"
     ]
    }
   ],
   "source": [
    "from selenium import webdriver\n",
    "from selenium.webdriver.common.keys import Keys\n",
    "\n",
    "\n",
    "options = webdriver.ChromeOptions()\n",
    "driver = webdriver.Remote(command_executor=\"http://localhost:4444\", options=options)\n",
    "\n",
    "driver.get(\"https://www.w3schools.com/html/default.asp\")\n",
    "time.sleep(3)\n",
    "all_cookies=driver.get_cookies()\n",
    "print(all_cookies)"
   ]
  },
  {
   "cell_type": "code",
   "execution_count": null,
   "id": "a1101049",
   "metadata": {},
   "outputs": [],
   "source": []
  },
  {
   "cell_type": "code",
   "execution_count": null,
   "id": "a6c56db6",
   "metadata": {},
   "outputs": [],
   "source": []
  },
  {
   "cell_type": "code",
   "execution_count": null,
   "id": "ddf051b5",
   "metadata": {},
   "outputs": [],
   "source": []
  },
  {
   "cell_type": "code",
   "execution_count": null,
   "id": "e3108b47",
   "metadata": {},
   "outputs": [],
   "source": []
  },
  {
   "cell_type": "code",
   "execution_count": null,
   "id": "265c33d4",
   "metadata": {},
   "outputs": [],
   "source": []
  },
  {
   "cell_type": "code",
   "execution_count": null,
   "id": "f37e87eb",
   "metadata": {},
   "outputs": [],
   "source": []
  },
  {
   "cell_type": "code",
   "execution_count": null,
   "id": "8e38e247",
   "metadata": {},
   "outputs": [],
   "source": []
  },
  {
   "cell_type": "code",
   "execution_count": null,
   "id": "51a93601",
   "metadata": {},
   "outputs": [],
   "source": []
  },
  {
   "cell_type": "code",
   "execution_count": null,
   "id": "ea06d6e5",
   "metadata": {},
   "outputs": [],
   "source": []
  },
  {
   "cell_type": "code",
   "execution_count": null,
   "id": "224f20e5",
   "metadata": {},
   "outputs": [],
   "source": []
  }
 ],
 "metadata": {
  "kernelspec": {
   "display_name": "jupyter_kernel_01",
   "language": "python",
   "name": "data_trans_env"
  },
  "language_info": {
   "codemirror_mode": {
    "name": "ipython",
    "version": 3
   },
   "file_extension": ".py",
   "mimetype": "text/x-python",
   "name": "python",
   "nbconvert_exporter": "python",
   "pygments_lexer": "ipython3",
   "version": "3.11.4"
  }
 },
 "nbformat": 4,
 "nbformat_minor": 5
}
